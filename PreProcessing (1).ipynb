{
 "cells": [
  {
   "cell_type": "code",
   "execution_count": 1,
   "id": "81226cd0-ff92-499a-9f8a-d095bad964cc",
   "metadata": {
    "execution": {
     "iopub.execute_input": "2022-05-16T11:44:17.919758Z",
     "iopub.status.busy": "2022-05-16T11:44:17.919131Z",
     "iopub.status.idle": "2022-05-16T11:44:21.284947Z",
     "shell.execute_reply": "2022-05-16T11:44:21.284374Z"
    },
    "papermill": {
     "duration": 3.385839,
     "end_time": "2022-05-16T11:44:21.285123",
     "exception": false,
     "start_time": "2022-05-16T11:44:17.899284",
     "status": "completed"
    },
    "tags": []
   },
   "outputs": [
    {
     "name": "stdout",
     "output_type": "stream",
     "text": [
      "\u001b[33mWARNING: The directory '/home/jovyan/.cache/pip' or its parent directory is not owned or is not writable by the current user. The cache has been disabled. Check the permissions and owner of that directory. If executing pip with sudo, you should use sudo's -H flag.\u001b[0m\r\n"
     ]
    },
    {
     "name": "stdout",
     "output_type": "stream",
     "text": [
      "Requirement already satisfied: scikit-learn in /opt/conda/lib/python3.8/site-packages (1.1.0)\r\n"
     ]
    },
    {
     "name": "stdout",
     "output_type": "stream",
     "text": [
      "Requirement already satisfied: threadpoolctl>=2.0.0 in /opt/conda/lib/python3.8/site-packages (from scikit-learn) (3.1.0)\r\n",
      "Requirement already satisfied: numpy>=1.17.3 in /opt/conda/lib/python3.8/site-packages (from scikit-learn) (1.21.2)\r\n",
      "Requirement already satisfied: scipy>=1.3.2 in /opt/conda/lib/python3.8/site-packages (from scikit-learn) (1.8.0)\r\n",
      "Requirement already satisfied: joblib>=1.0.0 in /opt/conda/lib/python3.8/site-packages (from scikit-learn) (1.1.0)\r\n"
     ]
    },
    {
     "name": "stdout",
     "output_type": "stream",
     "text": [
      "\u001b[33mWARNING: Running pip as the 'root' user can result in broken permissions and conflicting behaviour with the system package manager. It is recommended to use a virtual environment instead: https://pip.pypa.io/warnings/venv\u001b[0m\r\n"
     ]
    },
    {
     "name": "stdout",
     "output_type": "stream",
     "text": [
      "\u001b[33mWARNING: You are using pip version 21.2.4; however, version 22.1 is available.\r\n",
      "You should consider upgrading via the '/opt/conda/bin/python -m pip install --upgrade pip' command.\u001b[0m\r\n"
     ]
    },
    {
     "name": "stdout",
     "output_type": "stream",
     "text": [
      "Note: you may need to restart the kernel to use updated packages.\n"
     ]
    }
   ],
   "source": [
    "pip install -U scikit-learn"
   ]
  },
  {
   "cell_type": "code",
   "execution_count": 2,
   "id": "2ca3e7cb",
   "metadata": {
    "execution": {
     "iopub.execute_input": "2022-05-16T11:44:21.311874Z",
     "iopub.status.busy": "2022-05-16T11:44:21.311281Z",
     "iopub.status.idle": "2022-05-16T11:44:21.687139Z",
     "shell.execute_reply": "2022-05-16T11:44:21.687849Z"
    },
    "papermill": {
     "duration": 0.391528,
     "end_time": "2022-05-16T11:44:21.688022",
     "exception": false,
     "start_time": "2022-05-16T11:44:21.296494",
     "status": "completed"
    },
    "tags": []
   },
   "outputs": [],
   "source": [
    "import pandas as pd"
   ]
  },
  {
   "cell_type": "code",
   "execution_count": 3,
   "id": "6a8d5368-f525-435f-ac3b-051a161b7871",
   "metadata": {
    "execution": {
     "iopub.execute_input": "2022-05-16T11:44:21.717340Z",
     "iopub.status.busy": "2022-05-16T11:44:21.715090Z",
     "iopub.status.idle": "2022-05-16T11:44:21.719708Z",
     "shell.execute_reply": "2022-05-16T11:44:21.720238Z"
    },
    "papermill": {
     "duration": 0.021438,
     "end_time": "2022-05-16T11:44:21.720399",
     "exception": false,
     "start_time": "2022-05-16T11:44:21.698961",
     "status": "completed"
    },
    "tags": []
   },
   "outputs": [],
   "source": [
    "data = pd.read_csv(\"output.csv\")"
   ]
  },
  {
   "cell_type": "code",
   "execution_count": 4,
   "id": "a551f7a6",
   "metadata": {
    "execution": {
     "iopub.execute_input": "2022-05-16T11:44:21.752706Z",
     "iopub.status.busy": "2022-05-16T11:44:21.752136Z",
     "iopub.status.idle": "2022-05-16T11:44:21.759175Z",
     "shell.execute_reply": "2022-05-16T11:44:21.759632Z"
    },
    "papermill": {
     "duration": 0.029192,
     "end_time": "2022-05-16T11:44:21.759804",
     "exception": false,
     "start_time": "2022-05-16T11:44:21.730612",
     "status": "completed"
    },
    "tags": []
   },
   "outputs": [],
   "source": [
    "data['Sales order date'] = pd.to_datetime(data['Sales order date'],dayfirst = True)\n",
    "data['Quote Date']= pd.to_datetime(data['Quote Date'],dayfirst = True)\n",
    "data['Quote Date - So Date Difference'] = (data['Sales order date'] - data['Quote Date']).dt.days\n",
    "data['Date'] = pd.to_datetime(data['Date'],dayfirst = True)\n",
    "data['Age of Customer(days)'] = (data['Date'] - data['Sales order date']).dt.days\n",
    "data['Age of Customer(days)']=data['Age of Customer(days)'].fillna(0)"
   ]
  },
  {
   "cell_type": "code",
   "execution_count": 5,
   "id": "6ea25e9d",
   "metadata": {
    "execution": {
     "iopub.execute_input": "2022-05-16T11:44:21.789853Z",
     "iopub.status.busy": "2022-05-16T11:44:21.789258Z",
     "iopub.status.idle": "2022-05-16T11:44:21.994544Z",
     "shell.execute_reply": "2022-05-16T11:44:21.994984Z"
    },
    "papermill": {
     "duration": 0.21965,
     "end_time": "2022-05-16T11:44:21.995148",
     "exception": false,
     "start_time": "2022-05-16T11:44:21.775498",
     "status": "completed"
    },
    "tags": []
   },
   "outputs": [],
   "source": [
    "data['Conversion Ratio'] = 0.0\n",
    "for i in data['Customer ID']:\n",
    "    a=list(data.loc[data['Customer ID']==i,'Quote Amount'])\n",
    "    l = list(data.loc[data['Customer ID']==i,'Sales Order Amount'])\n",
    "    s = 0\n",
    "    c= 0\n",
    "    for j in l:\n",
    "       \n",
    "        if pd.isnull(j)==False:\n",
    "            s = s+j\n",
    "            c = c+1\n",
    "    if c==0:\n",
    "        m = 0 \n",
    "    else:\n",
    "        m = s\n",
    "            \n",
    "    d=sum(a)/len(a)\n",
    "    data.loc[data['Customer ID']==i,'TotalSales']= m   \n",
    "    rate=c/len(a)\n",
    "    data.loc[data['Customer ID']==i,'Conversion Ratio']= round((rate*100),2)"
   ]
  },
  {
   "cell_type": "code",
   "execution_count": 6,
   "id": "0fc0b789",
   "metadata": {
    "execution": {
     "iopub.execute_input": "2022-05-16T11:44:22.122718Z",
     "iopub.status.busy": "2022-05-16T11:44:22.072487Z",
     "iopub.status.idle": "2022-05-16T11:44:22.139957Z",
     "shell.execute_reply": "2022-05-16T11:44:22.139060Z"
    },
    "papermill": {
     "duration": 0.13401,
     "end_time": "2022-05-16T11:44:22.140095",
     "exception": false,
     "start_time": "2022-05-16T11:44:22.006085",
     "status": "completed"
    },
    "tags": []
   },
   "outputs": [],
   "source": [
    "for i in data['Customer ID']:\n",
    "    a=list(data.loc[data['Customer ID']==i,'Age of Customer(days)'].values)\n",
    "    data.loc[data['Customer ID']==i,'Age of Customer(days)']=(max(a))"
   ]
  },
  {
   "cell_type": "code",
   "execution_count": 7,
   "id": "c5adb1b5",
   "metadata": {
    "execution": {
     "iopub.execute_input": "2022-05-16T11:44:22.297839Z",
     "iopub.status.busy": "2022-05-16T11:44:22.210264Z",
     "iopub.status.idle": "2022-05-16T11:44:22.301454Z",
     "shell.execute_reply": "2022-05-16T11:44:22.300966Z"
    },
    "papermill": {
     "duration": 0.149361,
     "end_time": "2022-05-16T11:44:22.301587",
     "exception": false,
     "start_time": "2022-05-16T11:44:22.152226",
     "status": "completed"
    },
    "tags": []
   },
   "outputs": [],
   "source": [
    "data['Avg Days'] = 0.0\n",
    "for i in data['Customer ID']:\n",
    "    b = list(data.loc[data['Customer ID']==i,'Quote Date - So Date Difference'])\n",
    "    s = 0\n",
    "    c= 0\n",
    "    for j in b:\n",
    "        if pd.isnull(j)==False:\n",
    "            s = s+j\n",
    "            c = c+1\n",
    "    if c==0:\n",
    "        m = 0 \n",
    "    else:\n",
    "        m = s/c\n",
    "            \n",
    "    data.loc[data['Customer ID']==i,'Avg Days']= m"
   ]
  },
  {
   "cell_type": "code",
   "execution_count": 8,
   "id": "ce7d83d8",
   "metadata": {
    "execution": {
     "iopub.execute_input": "2022-05-16T11:44:22.340320Z",
     "iopub.status.busy": "2022-05-16T11:44:22.339631Z",
     "iopub.status.idle": "2022-05-16T11:44:22.343643Z",
     "shell.execute_reply": "2022-05-16T11:44:22.343095Z"
    },
    "papermill": {
     "duration": 0.031056,
     "end_time": "2022-05-16T11:44:22.343756",
     "exception": false,
     "start_time": "2022-05-16T11:44:22.312700",
     "status": "completed"
    },
    "tags": []
   },
   "outputs": [],
   "source": [
    "data['Age of Customer (years)'] = round((data['Age of Customer(days)']/365),2)"
   ]
  },
  {
   "cell_type": "code",
   "execution_count": 9,
   "id": "f304633c",
   "metadata": {
    "execution": {
     "iopub.execute_input": "2022-05-16T11:44:22.384030Z",
     "iopub.status.busy": "2022-05-16T11:44:22.382550Z",
     "iopub.status.idle": "2022-05-16T11:44:22.384625Z",
     "shell.execute_reply": "2022-05-16T11:44:22.385062Z"
    },
    "papermill": {
     "duration": 0.03002,
     "end_time": "2022-05-16T11:44:22.385188",
     "exception": false,
     "start_time": "2022-05-16T11:44:22.355168",
     "status": "completed"
    },
    "tags": []
   },
   "outputs": [],
   "source": [
    "data2 = data.drop_duplicates(subset=['Customer ID'],keep = 'last')"
   ]
  },
  {
   "cell_type": "code",
   "execution_count": 10,
   "id": "fd7b1fa3-7c81-43d2-a8a6-45b23bb30e00",
   "metadata": {
    "execution": {
     "iopub.execute_input": "2022-05-16T11:44:22.412981Z",
     "iopub.status.busy": "2022-05-16T11:44:22.411353Z",
     "iopub.status.idle": "2022-05-16T11:44:25.106077Z",
     "shell.execute_reply": "2022-05-16T11:44:25.107131Z"
    },
    "papermill": {
     "duration": 2.709996,
     "end_time": "2022-05-16T11:44:25.107314",
     "exception": false,
     "start_time": "2022-05-16T11:44:22.397318",
     "status": "completed"
    },
    "tags": []
   },
   "outputs": [
    {
     "name": "stdout",
     "output_type": "stream",
     "text": [
      "\u001b[33mWARNING: The directory '/home/jovyan/.cache/pip' or its parent directory is not owned or is not writable by the current user. The cache has been disabled. Check the permissions and owner of that directory. If executing pip with sudo, you should use sudo's -H flag.\u001b[0m\r\n",
      "Requirement already satisfied: sklearn in /opt/conda/lib/python3.8/site-packages (0.0)\r\n",
      "Requirement already satisfied: scikit-learn in /opt/conda/lib/python3.8/site-packages (from sklearn) (1.1.0)\r\n"
     ]
    },
    {
     "name": "stdout",
     "output_type": "stream",
     "text": [
      "Requirement already satisfied: numpy>=1.17.3 in /opt/conda/lib/python3.8/site-packages (from scikit-learn->sklearn) (1.21.2)\r\n",
      "Requirement already satisfied: scipy>=1.3.2 in /opt/conda/lib/python3.8/site-packages (from scikit-learn->sklearn) (1.8.0)\r\n",
      "Requirement already satisfied: threadpoolctl>=2.0.0 in /opt/conda/lib/python3.8/site-packages (from scikit-learn->sklearn) (3.1.0)\r\n",
      "Requirement already satisfied: joblib>=1.0.0 in /opt/conda/lib/python3.8/site-packages (from scikit-learn->sklearn) (1.1.0)\r\n"
     ]
    },
    {
     "name": "stdout",
     "output_type": "stream",
     "text": [
      "\u001b[33mWARNING: Running pip as the 'root' user can result in broken permissions and conflicting behaviour with the system package manager. It is recommended to use a virtual environment instead: https://pip.pypa.io/warnings/venv\u001b[0m\r\n"
     ]
    },
    {
     "name": "stdout",
     "output_type": "stream",
     "text": [
      "\u001b[33mWARNING: You are using pip version 21.2.4; however, version 22.1 is available.\r\n",
      "You should consider upgrading via the '/opt/conda/bin/python -m pip install --upgrade pip' command.\u001b[0m\r\n"
     ]
    },
    {
     "name": "stdout",
     "output_type": "stream",
     "text": [
      "Note: you may need to restart the kernel to use updated packages.\n"
     ]
    }
   ],
   "source": [
    "pip install sklearn"
   ]
  },
  {
   "cell_type": "code",
   "execution_count": 11,
   "id": "a56ba7f9",
   "metadata": {
    "execution": {
     "iopub.execute_input": "2022-05-16T11:44:25.144710Z",
     "iopub.status.busy": "2022-05-16T11:44:25.144096Z",
     "iopub.status.idle": "2022-05-16T11:44:25.572821Z",
     "shell.execute_reply": "2022-05-16T11:44:25.572350Z"
    },
    "papermill": {
     "duration": 0.452934,
     "end_time": "2022-05-16T11:44:25.572971",
     "exception": false,
     "start_time": "2022-05-16T11:44:25.120037",
     "status": "completed"
    },
    "tags": []
   },
   "outputs": [
    {
     "name": "stderr",
     "output_type": "stream",
     "text": [
      "/opt/conda/lib/python3.8/site-packages/pandas/core/frame.py:3673: SettingWithCopyWarning: \n",
      "A value is trying to be set on a copy of a slice from a DataFrame.\n",
      "Try using .loc[row_indexer,col_indexer] = value instead\n",
      "\n",
      "See the caveats in the documentation: https://pandas.pydata.org/pandas-docs/stable/user_guide/indexing.html#returning-a-view-versus-a-copy\n",
      "  self[col] = igetitem(value, i)\n"
     ]
    }
   ],
   "source": [
    "from sklearn.preprocessing import MinMaxScaler\n",
    "data2[['Conversion Ratio','Age of Customer (years)','TotalSales','Avg Days']] = MinMaxScaler().fit(data2[['Conversion Ratio','Age of Customer (years)','TotalSales','Avg Days']]).transform(data2[['Conversion Ratio','Age of Customer (years)','TotalSales','Avg Days']])  "
   ]
  },
  {
   "cell_type": "code",
   "execution_count": 12,
   "id": "5a843960",
   "metadata": {
    "execution": {
     "iopub.execute_input": "2022-05-16T11:44:25.608125Z",
     "iopub.status.busy": "2022-05-16T11:44:25.602123Z",
     "iopub.status.idle": "2022-05-16T11:44:25.614477Z",
     "shell.execute_reply": "2022-05-16T11:44:25.615093Z"
    },
    "papermill": {
     "duration": 0.029299,
     "end_time": "2022-05-16T11:44:25.615385",
     "exception": false,
     "start_time": "2022-05-16T11:44:25.586086",
     "status": "completed"
    },
    "tags": []
   },
   "outputs": [
    {
     "name": "stderr",
     "output_type": "stream",
     "text": [
      "/tmp/ipykernel_662/1117038575.py:1: SettingWithCopyWarning: \n",
      "A value is trying to be set on a copy of a slice from a DataFrame.\n",
      "Try using .loc[row_indexer,col_indexer] = value instead\n",
      "\n",
      "See the caveats in the documentation: https://pandas.pydata.org/pandas-docs/stable/user_guide/indexing.html#returning-a-view-versus-a-copy\n",
      "  data2['Total Rating'] = data2['Conversion Ratio'] + (0.75 *data2['TotalSales']) +(0.2 * data2['Age of Customer (years)']) +(0.5 * data2['Avg Days'])\n"
     ]
    }
   ],
   "source": [
    "data2['Total Rating'] = data2['Conversion Ratio'] + (0.75 *data2['TotalSales']) +(0.2 * data2['Age of Customer (years)']) +(0.5 * data2['Avg Days'])"
   ]
  },
  {
   "cell_type": "code",
   "execution_count": 13,
   "id": "7600363b",
   "metadata": {
    "execution": {
     "iopub.execute_input": "2022-05-16T11:44:25.674356Z",
     "iopub.status.busy": "2022-05-16T11:44:25.673519Z",
     "iopub.status.idle": "2022-05-16T11:44:25.683603Z",
     "shell.execute_reply": "2022-05-16T11:44:25.684644Z"
    },
    "papermill": {
     "duration": 0.049559,
     "end_time": "2022-05-16T11:44:25.684822",
     "exception": false,
     "start_time": "2022-05-16T11:44:25.635263",
     "status": "completed"
    },
    "tags": []
   },
   "outputs": [],
   "source": [
    "data2 = data2.sort_values(['Total Rating','Conversion Ratio','Age of Customer (years)','Avg Days'],ascending = [False,False,False,False])\n",
    "data2 = data2.reset_index()\n",
    "data2.drop(columns = ['index'],inplace = True)\n",
    "data2 ['Rank']= data2.index+1"
   ]
  },
  {
   "cell_type": "code",
   "execution_count": 14,
   "id": "bb3aa434",
   "metadata": {
    "execution": {
     "iopub.execute_input": "2022-05-16T11:44:25.721199Z",
     "iopub.status.busy": "2022-05-16T11:44:25.720048Z",
     "iopub.status.idle": "2022-05-16T11:44:25.729020Z",
     "shell.execute_reply": "2022-05-16T11:44:25.729832Z"
    },
    "papermill": {
     "duration": 0.028042,
     "end_time": "2022-05-16T11:44:25.729988",
     "exception": false,
     "start_time": "2022-05-16T11:44:25.701946",
     "status": "completed"
    },
    "tags": []
   },
   "outputs": [],
   "source": [
    "data2.to_csv(\"output.csv\",index=False)"
   ]
  },
  {
   "cell_type": "code",
   "execution_count": null,
   "id": "b4d2ca51",
   "metadata": {
    "papermill": {
     "duration": 0.017798,
     "end_time": "2022-05-16T11:44:25.761025",
     "exception": false,
     "start_time": "2022-05-16T11:44:25.743227",
     "status": "completed"
    },
    "tags": []
   },
   "outputs": [],
   "source": []
  }
 ],
 "metadata": {
  "kernelspec": {
   "display_name": "Python 3 (ipykernel)",
   "language": "python",
   "name": "python3"
  },
  "language_info": {
   "codemirror_mode": {
    "name": "ipython",
    "version": 3
   },
   "file_extension": ".py",
   "mimetype": "text/x-python",
   "name": "python",
   "nbconvert_exporter": "python",
   "pygments_lexer": "ipython3",
   "version": "3.8.6"
  },
  "papermill": {
   "default_parameters": {},
   "duration": 9.312645,
   "end_time": "2022-05-16T11:44:26.093920",
   "environment_variables": {},
   "exception": null,
   "input_path": "/home/katonic/PreProcessing.ipynb",
   "output_path": "/home/katonic/PreProcessing.ipynb",
   "parameters": {},
   "start_time": "2022-05-16T11:44:16.781275",
   "version": "2.3.3"
  }
 },
 "nbformat": 4,
 "nbformat_minor": 5
}