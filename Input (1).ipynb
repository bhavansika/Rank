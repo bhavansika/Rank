{
 "cells": [
  {
   "cell_type": "code",
   "execution_count": 1,
   "id": "4c3c4e01",
   "metadata": {
    "execution": {
     "iopub.execute_input": "2022-05-16T11:44:13.303369Z",
     "iopub.status.busy": "2022-05-16T11:44:13.302633Z",
     "iopub.status.idle": "2022-05-16T11:44:16.125204Z",
     "shell.execute_reply": "2022-05-16T11:44:16.124009Z"
    },
    "papermill": {
     "duration": 2.836257,
     "end_time": "2022-05-16T11:44:16.125356",
     "exception": false,
     "start_time": "2022-05-16T11:44:13.289099",
     "status": "completed"
    },
    "tags": []
   },
   "outputs": [
    {
     "name": "stdout",
     "output_type": "stream",
     "text": [
      "\u001b[33mWARNING: The directory '/home/jovyan/.cache/pip' or its parent directory is not owned or is not writable by the current user. The cache has been disabled. Check the permissions and owner of that directory. If executing pip with sudo, you should use sudo's -H flag.\u001b[0m\r\n"
     ]
    },
    {
     "name": "stdout",
     "output_type": "stream",
     "text": [
      "Requirement already satisfied: pandas in /opt/conda/lib/python3.8/site-packages (1.3.2)\r\n",
      "Requirement already satisfied: python-dateutil>=2.7.3 in /opt/conda/lib/python3.8/site-packages (from pandas) (2.8.2)\r\n",
      "Requirement already satisfied: pytz>=2017.3 in /opt/conda/lib/python3.8/site-packages (from pandas) (2021.1)\r\n",
      "Requirement already satisfied: numpy>=1.17.3 in /opt/conda/lib/python3.8/site-packages (from pandas) (1.21.2)\r\n",
      "Requirement already satisfied: six>=1.5 in /opt/conda/lib/python3.8/site-packages (from python-dateutil>=2.7.3->pandas) (1.16.0)\r\n"
     ]
    },
    {
     "name": "stdout",
     "output_type": "stream",
     "text": [
      "\u001b[33mWARNING: Running pip as the 'root' user can result in broken permissions and conflicting behaviour with the system package manager. It is recommended to use a virtual environment instead: https://pip.pypa.io/warnings/venv\u001b[0m\r\n"
     ]
    },
    {
     "name": "stdout",
     "output_type": "stream",
     "text": [
      "\u001b[33mWARNING: You are using pip version 21.2.4; however, version 22.1 is available.\r\n",
      "You should consider upgrading via the '/opt/conda/bin/python -m pip install --upgrade pip' command.\u001b[0m\r\n"
     ]
    },
    {
     "name": "stdout",
     "output_type": "stream",
     "text": [
      "Note: you may need to restart the kernel to use updated packages.\n"
     ]
    }
   ],
   "source": [
    "pip install pandas"
   ]
  },
  {
   "cell_type": "code",
   "execution_count": 2,
   "id": "0ab7e7cc",
   "metadata": {
    "execution": {
     "iopub.execute_input": "2022-05-16T11:44:16.140628Z",
     "iopub.status.busy": "2022-05-16T11:44:16.140029Z",
     "iopub.status.idle": "2022-05-16T11:44:16.502375Z",
     "shell.execute_reply": "2022-05-16T11:44:16.501851Z"
    },
    "papermill": {
     "duration": 0.371393,
     "end_time": "2022-05-16T11:44:16.502511",
     "exception": false,
     "start_time": "2022-05-16T11:44:16.131118",
     "status": "completed"
    },
    "tags": []
   },
   "outputs": [],
   "source": [
    "import pandas as pd"
   ]
  },
  {
   "cell_type": "code",
   "execution_count": 3,
   "id": "e1493988",
   "metadata": {
    "execution": {
     "iopub.execute_input": "2022-05-16T11:44:16.516893Z",
     "iopub.status.busy": "2022-05-16T11:44:16.514923Z",
     "iopub.status.idle": "2022-05-16T11:44:16.523385Z",
     "shell.execute_reply": "2022-05-16T11:44:16.522962Z"
    },
    "papermill": {
     "duration": 0.015833,
     "end_time": "2022-05-16T11:44:16.523494",
     "exception": false,
     "start_time": "2022-05-16T11:44:16.507661",
     "status": "completed"
    },
    "tags": []
   },
   "outputs": [],
   "source": [
    "data = pd.read_csv('Quotation_dataset3.csv')"
   ]
  },
  {
   "cell_type": "code",
   "execution_count": 4,
   "id": "29b5acd0-c3bb-4f6c-ad4e-46bdde104208",
   "metadata": {
    "execution": {
     "iopub.execute_input": "2022-05-16T11:44:16.537246Z",
     "iopub.status.busy": "2022-05-16T11:44:16.536659Z",
     "iopub.status.idle": "2022-05-16T11:44:16.541470Z",
     "shell.execute_reply": "2022-05-16T11:44:16.540950Z"
    },
    "papermill": {
     "duration": 0.013105,
     "end_time": "2022-05-16T11:44:16.541581",
     "exception": false,
     "start_time": "2022-05-16T11:44:16.528476",
     "status": "completed"
    },
    "tags": []
   },
   "outputs": [],
   "source": [
    "data.to_csv(\"output.csv\",index=False)"
   ]
  }
 ],
 "metadata": {
  "kernelspec": {
   "display_name": "Python 3 (ipykernel)",
   "language": "python",
   "name": "python3"
  },
  "language_info": {
   "codemirror_mode": {
    "name": "ipython",
    "version": 3
   },
   "file_extension": ".py",
   "mimetype": "text/x-python",
   "name": "python",
   "nbconvert_exporter": "python",
   "pygments_lexer": "ipython3",
   "version": "3.8.6"
  },
  "papermill": {
   "default_parameters": {},
   "duration": 4.489012,
   "end_time": "2022-05-16T11:44:16.753868",
   "environment_variables": {},
   "exception": null,
   "input_path": "/home/katonic/Input.ipynb",
   "output_path": "/home/katonic/Input.ipynb",
   "parameters": {},
   "start_time": "2022-05-16T11:44:12.264856",
   "version": "2.3.3"
  }
 },
 "nbformat": 4,
 "nbformat_minor": 5
}